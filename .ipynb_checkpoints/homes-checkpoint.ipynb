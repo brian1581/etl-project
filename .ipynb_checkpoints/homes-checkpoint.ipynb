{
 "cells": [
  {
   "cell_type": "code",
   "execution_count": 1,
   "metadata": {},
   "outputs": [],
   "source": [
    "import pandas as pd\n",
    "import getpass\n",
    "from sqlalchemy import create_engine"
   ]
  },
  {
   "cell_type": "code",
   "execution_count": null,
   "metadata": {},
   "outputs": [],
   "source": [
    "home_file_ref = 'Zip_MedianListingPrice_AllHomes.csv'\n",
    "\n",
    "home_df = pd.read_csv(home_file_ref, dtype={'zip_code': 'str'})\n",
    "home_df.head()"
   ]
  },
  {
   "cell_type": "code",
   "execution_count": null,
   "metadata": {},
   "outputs": [],
   "source": [
    "# home_df_cols = ('zip_code', 'state', '2016-01', '2016-02', '2016-03', '2016-04', '2016-05', '2016-06', '2016-07', '2016-08', '2016-09', '2016-10', '2016-11', '2016-12')\n",
    "\n",
    "# home_df = home_df[home_df_cols].copy()\n",
    "\n",
    "home_df = home_df[['zip_code', 'state', '2016-01','2016-02','2016-03','2016-04','2016-05','2016-06','2016-07','2016-08','2016-09','2016-10','2016-11','2016-12']]\n",
    "home_df = home_df.fillna(0)"
   ]
  },
  {
   "cell_type": "code",
   "execution_count": null,
   "metadata": {},
   "outputs": [],
   "source": [
    "home_df.set_index('zip_code', inplace=True)\n",
    "home_df.head()"
   ]
  },
  {
   "cell_type": "code",
   "execution_count": null,
   "metadata": {},
   "outputs": [],
   "source": [
    "# home_df['2016 avg'] = home_df.iloc[:,2:14].mean(axis=1)\n",
    "home_df['avg_listing'] = home_df.iloc[:,2:14].mean(axis=1)"
   ]
  },
  {
   "cell_type": "code",
   "execution_count": null,
   "metadata": {},
   "outputs": [],
   "source": [
    "home_df.head()"
   ]
  },
  {
   "cell_type": "code",
   "execution_count": null,
   "metadata": {},
   "outputs": [],
   "source": [
    "home_df_2016 = home_df[['state','2016_avg_listing']].copy()\n",
    "home_df_2016['2016_avg_listing'] = home_df_2016['2016_avg_listing'].astype(int)\n",
    "home_df_2016.reset_index(inplace=True)\n",
    "# home_df_2016.index.set_names('ID',inplace=True)\n",
    "home_df_2016.head()"
   ]
  },
  {
   "cell_type": "code",
   "execution_count": null,
   "metadata": {},
   "outputs": [],
   "source": [
    "password = getpass.getpass()\n",
    "conn = f'postgres:{password}@localhost:5432/zip_code_db'\n",
    "engine = create_engine(f'postgresql://{conn}')\n",
    "engine.table_names()"
   ]
  },
  {
   "cell_type": "code",
   "execution_count": null,
   "metadata": {},
   "outputs": [],
   "source": []
  }
 ],
 "metadata": {
  "kernelspec": {
   "display_name": "Python 3",
   "language": "python",
   "name": "python3"
  },
  "language_info": {
   "codemirror_mode": {
    "name": "ipython",
    "version": 3
   },
   "file_extension": ".py",
   "mimetype": "text/x-python",
   "name": "python",
   "nbconvert_exporter": "python",
   "pygments_lexer": "ipython3",
   "version": "3.6.9"
  }
 },
 "nbformat": 4,
 "nbformat_minor": 2
}
